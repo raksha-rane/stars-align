{
 "cells": [
  {
   "cell_type": "markdown",
   "metadata": {},
   "source": [
    "# Analyze Taylor Swift Lyrics with Python\n",
    "\n",
    "### Try some of these resources for extra help as you work:\n",
    "\n",
    "* [View the Analyze Taylor Swift Lyrics with Python Cheatsheet](https://www.codecademy.com/learn/case-study-analyze-taylor-swift-lyrics/modules/analyze-taylor-swift-lyrics/cheatsheet)\n",
    "* Learn more about analyzing text in [Apply Natural Language Processing with Python](https://www.codecademy.com/learn/paths/natural-language-processing)\n",
    "\n",
    "[View the solution notebook](./solution.html)\n",
    "\n",
    "[The original dataset was curated by Jan Llenzl Dagohoy and published on Kaggle](https://www.kaggle.com/datasets/thespacefreak/taylor-swift-song-lyrics-all-albums)\n"
   ]
  },
  {
   "cell_type": "code",
   "execution_count": null,
   "metadata": {},
   "outputs": [],
   "source": [
    "%matplotlib inline\n",
    "\n",
    "import pandas as pd\n",
    "import string\n",
    "import seaborn as sns\n",
    "import matplotlib.pyplot as plt\n",
    "import collections\n",
    "import nltk\n",
    "from nltk.tokenize import word_tokenize\n",
    "from nltk.sentiment import SentimentIntensityAnalyzer\n"
   ]
  },
  {
   "cell_type": "markdown",
   "metadata": {},
   "source": [
    "### 1. Load the dataset\n",
    "\n",
    "After running the first cell to load all necessary libraries, we need to load our dataset. \n",
    "* Using pandas, load the dataset taylor_swift_lyrics_2006-2020_all.csv and save it as lyrics. \n",
    "* Inspect the first few rows.\n",
    "* Use `.info()` to determine how many rows there are, check for missing values, and check the variable types.\n"
   ]
  },
  {
   "cell_type": "markdown",
   "metadata": {},
   "source": [
    "*Note that we added the lyrics from the new Midnights album. If you want to inspect the lyrics from that album, you can find them in the file tree. Click on the Jupyter logo in the upper left corner and you can see all the files.* \n",
    "\n",
    "*Use \"taylor_swift_lyrics_2006-2022_all.csv\" in the `pd.read_csv()` function below to also analyze Midnights.*"
   ]
  },
  {
   "cell_type": "code",
   "execution_count": null,
   "metadata": {},
   "outputs": [],
   "source": [
    "# load dataset\n",
    "lyrics = pd.read_csv(\"taylor_swift_lyrics_2006-2020_all.csv\")\n",
    "\n",
    "#inspect the first few rows\n",
    "## YOUR CODE HERE ##\n"
   ]
  },
  {
   "cell_type": "code",
   "execution_count": null,
   "metadata": {},
   "outputs": [],
   "source": [
    "#get info about the DataFrame\n",
    "## YOUR CODE HERE ##\n"
   ]
  },
  {
   "cell_type": "markdown",
   "metadata": {},
   "source": [
    "<details>\n",
    "    <summary style=\"display:list-item; font-size:16px; color:blue;\"><i>What did we discover in this step? Toggle to check!</i></summary>\n",
    "\n",
    "The Taylor Swift lyrics dataset consists of comprehensive data on the lyrics from her albums 2020. There are no missing values. We can see the lyric details along the column axis and each lyric along the row axis. We can find the name  of each album, the track, and the line in which the lyric appears. We do not have year associated with this dataset. \n",
    "\n",
    "</details>"
   ]
  },
  {
   "cell_type": "markdown",
   "metadata": {},
   "source": [
    "### 2. Add essential data\n",
    "\n",
    "We know that we want to explore her use of terms over years, but this dataset doesn't have years. We can either merge a dataset or manually create a new column. We have created a function for you that fills in the year based on the album name. \n",
    "\n",
    "* Apply this function to the `lyrics` DataFrame to create a new column.\n",
    "* Inspect the first few rows of the DataFrame"
   ]
  },
  {
   "cell_type": "code",
   "execution_count": null,
   "metadata": {},
   "outputs": [],
   "source": [
    "# get a list of all the albums in this collection\n",
    "## YOUR CODE HERE ##\n"
   ]
  },
  {
   "cell_type": "code",
   "execution_count": null,
   "metadata": {},
   "outputs": [],
   "source": [
    "# this is a function to map the name of the album to the year it was released\n",
    "def album_release(row):  \n",
    "    if row['album_name'] == 'Taylor Swift':\n",
    "        return '2006'\n",
    "    elif row['album_name'] == 'Fearless (Taylor’s Version)':\n",
    "        return '2008'\n",
    "    elif row['album_name'] == 'Speak Now (Deluxe)':\n",
    "        return '2010'\n",
    "    elif row['album_name'] == 'Red (Deluxe Edition)':\n",
    "        return '2012'\n",
    "    elif row['album_name'] == '1989 (Deluxe)':\n",
    "        return '2014'\n",
    "    elif row['album_name'] == 'reputation':\n",
    "        return '2017'\n",
    "    elif row['album_name'] == 'Lover':\n",
    "        return '2019'\n",
    "    elif row['album_name'] == 'evermore (deluxe version)':\n",
    "        return '2020'\n",
    "    #ok, we know folklore was actually released in Dec 2020, but this will make our analysis easier\n",
    "    elif row['album_name'] == 'folklore (deluxe version)':\n",
    "        return '2021'\n",
    "    #this is slightly differently formatted because the album name is recorded two ways.\n",
    "    elif 'midnights' in row['album_name']:\n",
    "        return '2022'\n",
    "    \n",
    "    return 'No Date'\n",
    "\n",
    "\n",
    "# apply the function to the album\n",
    "## YOUR CODE HERE ##\n",
    "\n",
    "# inspect the first few rows of the DataFrame\n",
    "## YOUR CODE HERE ##\n"
   ]
  },
  {
   "cell_type": "markdown",
   "metadata": {},
   "source": [
    "### 3. Clean the lyric text\n",
    "\n",
    "To accurately count keyword mentions, we need to make everything lowercase everything, remove punctuation, and exclude stop words. \n",
    "\n",
    "* Change everything to lower case and save the result in a new column called `clean_lyric`.\n",
    "* Remove punctuation and save the result to the existing `clean_lyric` column.\n",
    "* Run the code we provided to remove stopwords.\n",
    "* Check to be sure you have what you expect by viewing the first few rows."
   ]
  },
  {
   "cell_type": "code",
   "execution_count": null,
   "metadata": {},
   "outputs": [],
   "source": [
    "#lowercase\n",
    "## YOUR CODE HERE ##\n",
    "\n",
    "#remove punctuation\n",
    "## YOUR CODE HERE ##\n"
   ]
  },
  {
   "cell_type": "code",
   "execution_count": null,
   "metadata": {},
   "outputs": [],
   "source": [
    "#remove stopwords (see the next cell for illustration)\n",
    "#create a small list of English stop words, feel free to edit this list\n",
    "stop = ['the', 'a', 'this', 'that', 'to', 'is', 'am', 'was', 'were', 'be', 'being', 'been']\n",
    "\n",
    "\n",
    "#there are three steps in one here - explained below\n",
    "#we make a list of words with `.split()`\n",
    "#then we remove all the words in our list\n",
    "#then we join the words back together into a string\n",
    "lyrics['clean_lyric'] = lyrics['clean_lyric'].apply(lambda x: ' '.join([word for word in x.split() if word not in (stop)]))\n"
   ]
  },
  {
   "cell_type": "code",
   "execution_count": null,
   "metadata": {},
   "outputs": [],
   "source": [
    "# inspect the first few rows of the DataFrame\n",
    "## YOUR CODE HERE ##"
   ]
  },
  {
   "cell_type": "markdown",
   "metadata": {},
   "source": [
    "### The next 4 cells are for illustration only"
   ]
  },
  {
   "cell_type": "code",
   "execution_count": null,
   "metadata": {},
   "outputs": [],
   "source": [
    "#see what `.split()` does\n",
    "lyrics['clean_lyric_list'] = lyrics['clean_lyric'].apply(lambda x: x.split())\n",
    "print(lyrics.head())"
   ]
  },
  {
   "cell_type": "code",
   "execution_count": null,
   "metadata": {},
   "outputs": [],
   "source": [
    "#see what `.join()` does\n",
    "lyrics['clean_lyric_list_rejoined'] = lyrics['clean_lyric_list'].apply(lambda x: ' '.join(x))\n",
    "print(lyrics.head())"
   ]
  },
  {
   "cell_type": "code",
   "execution_count": null,
   "metadata": {},
   "outputs": [],
   "source": [
    "#remove those illustration columns\n",
    "lyrics.drop(['clean_lyric_list', 'clean_lyric_list_rejoined'], axis=1, inplace=True)\n",
    "print(lyrics.head())"
   ]
  },
  {
   "cell_type": "code",
   "execution_count": null,
   "metadata": {},
   "outputs": [],
   "source": [
    "#there are many pre-built lists of stopwords, including one from sklearn.\n",
    "#Most exclude too many words to be appropriate for song lyric analysis.\n",
    "from sklearn.feature_extraction import text\n",
    "skl_stop = text.ENGLISH_STOP_WORDS\n",
    "print(skl_stop)"
   ]
  },
  {
   "cell_type": "markdown",
   "metadata": {},
   "source": [
    "### 4. Find keyword mentions\n",
    "\n",
    "Because we are most interested in \"midnight\", we will first count how many times midnight occurs in Taylor Swift's lyrics. \n",
    "\n",
    "* Create a new column to indicate if a lyric has \"midnight\" in it.\n",
    "* Check how many times midnight occurrs"
   ]
  },
  {
   "cell_type": "code",
   "execution_count": null,
   "metadata": {},
   "outputs": [],
   "source": [
    "#create a new column to reflect if the lyrics contain midnight\n",
    "## YOUR CODE HERE ##\n"
   ]
  },
  {
   "cell_type": "markdown",
   "metadata": {},
   "source": [
    "<details>\n",
    "    <summary style=\"display:list-item; font-size:16px; color:blue;\"><i>What did we discover in this step? Toggle to check!</i></summary>\n",
    "\n",
    "Midnight is not very common -- it only appeared 9 times! \n",
    "\n",
    "</details>"
   ]
  },
  {
   "cell_type": "markdown",
   "metadata": {},
   "source": [
    "### 5. Expand the keyword list\n",
    "\n",
    "Midnight might not be the only way that Taylor Swift has talked about night. We need to expand our list. We've made a list of night words and day words. Feel free to add or remove words to make the list your own. \n",
    "\n",
    "* Join the lists into a regular expression string using the `.join()` function and the `|` to indicate \"or\"\n",
    "* Create a new column for each word category (day, night, time) that evaluates the clean lyrics for the presence of the words in your regular expression.\n",
    "* Count how many times the words appeared and print the result to the screen\n",
    "* Inspect the first few rows of the lyrics DataFrame to be sure it looks as you expect"
   ]
  },
  {
   "cell_type": "code",
   "execution_count": null,
   "metadata": {},
   "outputs": [],
   "source": [
    "#night, day, and other time-related words\n",
    "night = ['night','midnight', 'dawn', 'dusk', 'evening', 'late', 'dark', '1am', '2am', '3am', '4am']\n",
    "day = ['day', 'morning', 'light', 'sun', 'dawn', 'noon', 'golden', 'bright']\n",
    "time = ['today', 'tomorrow', 'yesterday']"
   ]
  },
  {
   "cell_type": "code",
   "execution_count": null,
   "metadata": {},
   "outputs": [],
   "source": [
    "#create a regular expression string for each list of words\n",
    "## YOUR CODE HERE ##\n",
    "\n",
    "#create a new column for each category of words\n",
    "## YOUR CODE HERE ##\n",
    "\n",
    "#count the number of times each category of word appears in the lyrics\n",
    "## YOUR CODE HERE ##\n",
    "\n",
    "#print the count of each word category\n",
    "## YOUR CODE HERE ##\n",
    "\n"
   ]
  },
  {
   "cell_type": "code",
   "execution_count": null,
   "metadata": {},
   "outputs": [],
   "source": [
    "#inspect the first few rows\n",
    "## YOUR CODE HERE ##\n"
   ]
  },
  {
   "cell_type": "markdown",
   "metadata": {},
   "source": [
    "<details>\n",
    "    <summary style=\"display:list-item; font-size:16px; color:blue;\"><i>What did we discover in this step? Toggle to check!</i></summary>\n",
    "\n",
    "Taylor Swift has referenced time alot, there's enough mentions for us to potentially spot some trends. Also, she has mentioned day far more than night. This might be because of the search terms, so we might consider revisiting the list. Or it could be because she is actually more focused on day and light than she is on night and dark. \n",
    "\n",
    "</details>"
   ]
  },
  {
   "cell_type": "markdown",
   "metadata": {},
   "source": [
    "# Task Group 2"
   ]
  },
  {
   "cell_type": "markdown",
   "metadata": {},
   "source": [
    "### 6. Visualize how Taylor Swift's mentions of time have changed over time.\n",
    "\n",
    "Now that we know that she has referenced time, we can see if that has changed, and if she has been dropping any hints about her upcoming album. \n",
    "* Create a new dataframe called `yearly_mentions` that groups her mentions by year, and takes the sum of the other columns. Reset the index on this DataFrame to make it easier to use with matplotlib\n",
    "* Create a line chart in matplotlib showing the night mentions over time."
   ]
  },
  {
   "cell_type": "code",
   "execution_count": null,
   "metadata": {},
   "outputs": [],
   "source": [
    "#create a new dataframe for yearly mentions that groups mentions by year\n",
    "## YOUR CODE HERE ##\n"
   ]
  },
  {
   "cell_type": "code",
   "execution_count": null,
   "metadata": {},
   "outputs": [],
   "source": [
    "#plot the mentions of night over years\n",
    "## YOUR CODE HERE ##\n"
   ]
  },
  {
   "cell_type": "markdown",
   "metadata": {},
   "source": [
    "\n"
   ]
  },
  {
   "cell_type": "markdown",
   "metadata": {},
   "source": [
    "<details>\n",
    "    <summary style=\"display:list-item; font-size:16px; color:blue;\"><i>What did we discover in this step? Toggle to check!</i></summary>\n",
    "\n",
    "It looks like there was a peak in her mentioning night around 2012. It seems like those mentions have become less prevalent over time, with an actual dip in 2019! We had expected midnight to appear more often around then, based on rumors that she plans everything 3 years out.\n",
    "\n",
    "</details>"
   ]
  },
  {
   "cell_type": "markdown",
   "metadata": {},
   "source": [
    "### 7. What albums are the most night/day focused?\n",
    "Now that we have a table of counts, it's very easy to figure out which albums have the most mentions of day or night. But our DataFrame only has the years, not the album names. We need to add those back in.\n",
    "* Run the code that reinstates the album name for this dataframe.\n",
    "* Use `.sort_values()` to order the yearly_mentions table and find which year has the most mentions of night.\n",
    "* Sort the day column as well."
   ]
  },
  {
   "cell_type": "code",
   "execution_count": null,
   "metadata": {},
   "outputs": [],
   "source": [
    "#reinstate the album name\n",
    "#read the album_year_name.csv\n",
    "year_name = pd.read_csv('album_year_name.csv')\n",
    "\n",
    "#sort both dataframes by year\n",
    "yearly_mentions.sort_values(by='album_year', ascending=True, inplace=True)\n",
    "year_name.sort_values(by='album_year', ascending=True, inplace=True)\n",
    "\n",
    "#add the new column for album name\n",
    "yearly_mentions['album_name'] = year_name['album_name']"
   ]
  },
  {
   "cell_type": "code",
   "execution_count": null,
   "metadata": {},
   "outputs": [],
   "source": [
    "#sort the lyrics by the night column to find the albums with the most night references\n",
    "## YOUR CODE HERE ##\n"
   ]
  },
  {
   "cell_type": "markdown",
   "metadata": {},
   "source": [
    "<details>\n",
    "    <summary style=\"display:list-item; font-size:16px; color:blue;\"><i>What did we discover in this step? Toggle to check!</i></summary>\n",
    "\n",
    "Her most \"nightly\" album was reputation in 2012, whereas her least nightly album was also the one right before Midnight. Has she been saving all her night-related lyrics for the past 3 years?\n",
    "\n",
    "</details>"
   ]
  },
  {
   "cell_type": "code",
   "execution_count": null,
   "metadata": {},
   "outputs": [],
   "source": [
    "#sort the lyrics by the day column to find the albums with the most day references\n",
    "## YOUR CODE HERE ##\n"
   ]
  },
  {
   "cell_type": "markdown",
   "metadata": {},
   "source": [
    "<details>\n",
    "    <summary style=\"display:list-item; font-size:16px; color:blue;\"><i>What did we discover in this step? Toggle to check!</i></summary>\n",
    "\n",
    "It seems like her older work focused on day much more than her more recent. There was a period of time (2008-2012) when she was really focused on day, but it seems to have become less central to her work more recently. \n",
    "\n",
    "</details>"
   ]
  },
  {
   "cell_type": "markdown",
   "metadata": {},
   "source": [
    "### 8. Compare day to night mentions\n",
    "* Create another line chart with both the night mentions and the day mentions"
   ]
  },
  {
   "cell_type": "code",
   "execution_count": null,
   "metadata": {},
   "outputs": [],
   "source": [
    "#create a plot with one line showing number of night references by year \n",
    "#and another line with the number of day references by year\n",
    "## YOUR CODE HERE ##\n"
   ]
  },
  {
   "cell_type": "markdown",
   "metadata": {},
   "source": [
    "<details>\n",
    "    <summary style=\"display:list-item; font-size:16px; color:blue;\"><i>What did we discover in this step? Toggle to check!</i></summary>\n",
    "\n",
    "Well this is interesting. We see a similar dip in referencing time around 2017, but a sharp increase in both 2019 and 2020 to reference day. \n",
    "\n",
    "</details>"
   ]
  },
  {
   "cell_type": "markdown",
   "metadata": {},
   "source": [
    "### 9. Investigate position of day vs. night mentions within albums\n",
    "Maybe her references to time aren't always about the year that she released the album, but the ebb and flow of the album itself. Let's plot where, within each album, references to day and night occur.\n",
    "\n",
    "* Create a variable that indicates the position of a lyric within an album. Call this 'position'.\n",
    "* Create a new dataframe called positional_mentions that groups her mentions by album position, and takes the sum of the other columns. Reset the index on this DataFrame to make it easier to use with matplotlib.\n",
    "* Create a line chart in matplotlib showing the night and day mentions as a position within the album.\n",
    "\n",
    "*Remember that you can always print the head of the DataFrame to check your work*"
   ]
  },
  {
   "cell_type": "code",
   "execution_count": null,
   "metadata": {},
   "outputs": [],
   "source": [
    "#create a position variable that includes both the track number and line number\n",
    "## YOUR CODE HERE ##\n",
    "\n",
    "#create a new DataFrame that is grouped by position\n",
    "## YOUR CODE HERE ##\n"
   ]
  },
  {
   "cell_type": "code",
   "execution_count": null,
   "metadata": {},
   "outputs": [],
   "source": [
    "#increase the size of the plot \n",
    "fig = plt.gcf()\n",
    "fig.set_size_inches(25,10)\n",
    "\n",
    "#create a plot with two lines to show frequency of day vs. night references by position in the album\n",
    "## YOUR CODE HERE ##"
   ]
  },
  {
   "cell_type": "markdown",
   "metadata": {},
   "source": [
    "<details>\n",
    "    <summary style=\"display:list-item; font-size:16px; color:blue;\"><i>What did we discover in this step? Toggle to check!</i></summary>\n",
    "\n",
    "    Honestly not that much -- we can't see any strong trends here. Best to move on. \n",
    "</details>"
   ]
  },
  {
   "cell_type": "markdown",
   "metadata": {},
   "source": [
    "# Task Group 3"
   ]
  },
  {
   "cell_type": "markdown",
   "metadata": {},
   "source": [
    "### 10. Tokenize the Lyrics\n",
    "It's great to know how much she has focused on day and night, but we would also like to do a little more sophisticated analysis. Before we can work with our cleaned lyrics, we will have to tokenize them. Tokenization is a special way of breaking up words that is a little more nuanced than just using white space. The output is a list of words that we can then perform text analysis on.\n",
    "\n",
    "We will use the `word_tokenize` function from NLTK (the Natural Language ToolKit), and apply it to every row in our DataFrame with a lambda expression.\n",
    "\n",
    "* Run the cell to tokenize the cleaned lyrics.\n",
    "* Inspect the first few rows of the lyrics DataFrame\n",
    "* Create a list of all the tokens in the lyrics_tok column into one list\n",
    "* Use the Counter function from the collections package to count the number of times each word appears\n",
    "* Sort the resulting dictionary\n"
   ]
  },
  {
   "cell_type": "code",
   "execution_count": null,
   "metadata": {},
   "outputs": [],
   "source": [
    "#run this cell to tokenize the words in the clean_lyric column\n",
    "lyrics['lyrics_tok'] = lyrics['clean_lyric'].str.split(' ')"
   ]
  },
  {
   "cell_type": "code",
   "execution_count": null,
   "metadata": {},
   "outputs": [],
   "source": [
    "#inspect the first few lines\n",
    "## YOUR CODE HERE ##\n"
   ]
  },
  {
   "cell_type": "code",
   "execution_count": null,
   "metadata": {},
   "outputs": [],
   "source": [
    "#determine what words overall are the most frequently used words\n",
    "#create a list of all the words in the lyrics_tok column\n",
    "word_list = [word for list_ in lyrics['lyrics_tok'] for word in list_]\n",
    "\n",
    "#use the counter function to count the number of times each word appears\n",
    "## YOUR CODE HERE ##\n",
    "\n",
    "#sort the word frequencies to find out the most common words she's used. \n",
    "## YOUR CODE HERE ##\n",
    "\n",
    "#call the word frequency\n",
    "## YOUR CODE HERE ##\n"
   ]
  },
  {
   "cell_type": "markdown",
   "metadata": {},
   "source": [
    "<details>\n",
    "    <summary style=\"display:list-item; font-size:16px; color:blue;\"><i>What did we discover in this step? Toggle to check!</i></summary>\n",
    "\n",
    "   She mostly talks about you and then herself, while that's not surprising, it also tells us that she's mostly writing about relationships and her realtionships with others. \n",
    "</details>"
   ]
  },
  {
   "cell_type": "markdown",
   "metadata": {},
   "source": [
    "### 11. Analyze Lyric Sentiment\n",
    "\n",
    "To better understand how she thinks and feels about day and night, we want to know which one she writes about more favorably. \n",
    "\n",
    "We are going to use the pre-trained sentiment classifier that comes with NLTK. It's it trained on tweets and therefore best for short text. It return 4 values: positive, negative, neutral, and compound. Compound will be of special interest to us. It is the normalized sum of positive and negative. \n",
    "\n",
    "* Run the sample sentiment analyzer cell to see how the SentimentIntensityAnalyzer works.\n",
    "* Apply the sia sentiment analyzer to the clean_lyric column of the DataFrame with a lambda expression\n",
    "* Run the cell that transforms the dictionary into columns of the DataFrame"
   ]
  },
  {
   "cell_type": "code",
   "execution_count": null,
   "metadata": {},
   "outputs": [],
   "source": [
    "#run this cell to add a package from NLTK for our sentiment analyzer.\n",
    "nltk.download('vader_lexicon')"
   ]
  },
  {
   "cell_type": "code",
   "execution_count": null,
   "metadata": {},
   "outputs": [],
   "source": [
    "#run this cell to see how the sentiment analyzer works\n",
    "sia = SentimentIntensityAnalyzer()\n",
    "sia.polarity_scores(\"I love Taylor Swift!\")"
   ]
  },
  {
   "cell_type": "code",
   "execution_count": null,
   "metadata": {},
   "outputs": [],
   "source": [
    "#create a new column called polarity and apply the sia method to the clean_lyric column with a lambda expression\n",
    "## YOUR CODE HERE ##\n"
   ]
  },
  {
   "cell_type": "code",
   "execution_count": null,
   "metadata": {},
   "outputs": [],
   "source": [
    "#run this cell to transform the polarity dictionary into columns of the DataFrame\n",
    "lyrics[['neg', 'neu', 'pos', 'compound']] = lyrics['polarity'].apply(pd.Series)\n",
    "lyrics.drop('polarity', axis=1)"
   ]
  },
  {
   "cell_type": "code",
   "execution_count": null,
   "metadata": {},
   "outputs": [],
   "source": [
    "#inspect the first few rows\n",
    "## YOUR CODE HERE ##\n"
   ]
  },
  {
   "cell_type": "markdown",
   "metadata": {},
   "source": [
    "### 12. Corpus Sentiment Analysis\n",
    "\n",
    "Now that we have sentiment for all of her lyrics, let's learn more about her overall sentiment, as well as how that has change throughout her career. \n",
    "* Use the pos, neg, and compound columns to calculate the overall sentiment of her entire collection, and print the result.\n",
    "* Use the groupby function and matplotlib to visualize the overall sentiment of her albums over time "
   ]
  },
  {
   "cell_type": "code",
   "execution_count": null,
   "metadata": {},
   "outputs": [],
   "source": [
    "#calculate overall sentiment for pos, neg, sentiment\n",
    "## YOUR CODE HERE ##\n",
    "\n",
    "#print the overall sentiments\n",
    "## YOUR CODE HERE ##"
   ]
  },
  {
   "cell_type": "markdown",
   "metadata": {},
   "source": [
    "<details>\n",
    "    <summary style=\"display:list-item; font-size:16px; color:blue;\"><i>What did we discover in this step? Toggle to check!</i></summary>\n",
    "\n",
    "   Overall Taylor Swift's lyrics are mostly positive! \n",
    "</details>"
   ]
  },
  {
   "cell_type": "code",
   "execution_count": null,
   "metadata": {},
   "outputs": [],
   "source": [
    "#create a new DataFrame using the groupby method for the album_year\n",
    "## YOUR CODE HERE ##\n",
    "\n",
    "#visualize sentiment over time \n",
    "## YOUR CODE HERE ##"
   ]
  },
  {
   "cell_type": "markdown",
   "metadata": {},
   "source": [
    "<details>\n",
    "    <summary style=\"display:list-item; font-size:16px; color:blue;\"><i>What did we discover in this step? Toggle to check!</i></summary>\n",
    "\n",
    "   Her degree of positivity has really fluctuated over time. Her 2020 album was by far the least positive, though all of her albums are actually positive. \n",
    "</details>"
   ]
  },
  {
   "cell_type": "markdown",
   "metadata": {},
   "source": [
    "### 13. Day or Night? Positive or Negative\n",
    "Finally the big reveal. Does Taylor Swift write more positively about day or night? \n",
    "* Create two DataFrames: one for all the lyrics that mention night and one for all the lyrics that mention day.\n",
    "* Check that each DataFrame has the right number of values with the `len()` function\n",
    "* Calculate the sentiment for both night and day using the compound value and print them."
   ]
  },
  {
   "cell_type": "code",
   "execution_count": null,
   "metadata": {},
   "outputs": [],
   "source": [
    "#create a DataFrame filtered for only night mentions\n",
    "## YOUR CODE HERE ##\n",
    "\n",
    "#create a DataFrame filtered for only day mentions\n",
    "## YOUR CODE HERE ##\n",
    "\n",
    "#print the length of the night and day DataFrames\n",
    "## YOUR CODE HERE ##"
   ]
  },
  {
   "cell_type": "code",
   "execution_count": null,
   "metadata": {},
   "outputs": [],
   "source": [
    "#calculate the sentiment of each day and night DataFrame from the compound values\n",
    "## YOUR CODE HERE ##\n",
    "\n",
    "#print the results\n",
    "## YOUR CODE HERE ##"
   ]
  },
  {
   "cell_type": "markdown",
   "metadata": {},
   "source": [
    "<details>\n",
    "    <summary style=\"display:list-item; font-size:16px; color:blue;\"><i>What did we discover in this step? Toggle to check!</i></summary>\n",
    "\n",
    "She's still overall more positive in her sentiment about day than night! \n",
    "    \n",
    "You have the tools to explore if that sentiment has changed over time, or if her feelings towards night have grown more positive or negative over time. And of course, we would love to see your analysis of her new album, Midnight. Have her feelings changed?\n",
    "    \n",
    "Share your findings in the Codecademy forums! \n",
    "</details>"
   ]
  },
  {
   "cell_type": "code",
   "execution_count": null,
   "metadata": {},
   "outputs": [],
   "source": []
  }
 ],
 "metadata": {
  "kernelspec": {
   "display_name": "Python 3 (ipykernel)",
   "language": "python",
   "name": "python3"
  },
  "language_info": {
   "codemirror_mode": {
    "name": "ipython",
    "version": 3
   },
   "file_extension": ".py",
   "mimetype": "text/x-python",
   "name": "python",
   "nbconvert_exporter": "python",
   "pygments_lexer": "ipython3",
   "version": "3.8.10"
  }
 },
 "nbformat": 4,
 "nbformat_minor": 4
}
